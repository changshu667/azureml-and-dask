{
 "cells": [
  {
   "cell_type": "markdown",
   "metadata": {},
   "source": [
    "# Running Dask on AzureML\n",
    "\n",
    "This notebook shows how to run a batch job on a Dask cluster running on an AzureML Compute cluster. \n",
    "For setup instructions of your python environment, please see the [Readme](../README.md)"
   ]
  },
  {
   "cell_type": "code",
   "execution_count": 1,
   "metadata": {},
   "outputs": [
    {
     "data": {
      "text/plain": [
       "'1.12.0'"
      ]
     },
     "execution_count": 1,
     "metadata": {},
     "output_type": "execute_result"
    }
   ],
   "source": [
    "from azureml.core import Workspace, Experiment\n",
    "from azureml.train.estimator import Estimator\n",
    "from azureml.widgets import RunDetails\n",
    "from azureml.core.runconfig import MpiConfiguration\n",
    "from azureml.core import VERSION\n",
    "import uuid\n",
    "import time\n",
    "VERSION\n"
   ]
  },
  {
   "cell_type": "code",
   "execution_count": 2,
   "metadata": {},
   "outputs": [],
   "source": [
    "ws = Workspace.from_config()"
   ]
  },
  {
   "cell_type": "markdown",
   "metadata": {},
   "source": [
    "## Download the NYC Taxi dataset and upload to the workspace default blob storage"
   ]
  },
  {
   "cell_type": "code",
   "execution_count": 9,
   "metadata": {},
   "outputs": [
    {
     "name": "stdout",
     "output_type": "stream",
     "text": [
      "- Downloading http://dask-data.s3.amazonaws.com/nyc-taxi/2015/yellow_tripdata_2015-01.csv\n",
      "100%|██████████| 1985964692/1985964692 [00:30<00:00, 65604283.41it/s] \n",
      "- Downloading http://dask-data.s3.amazonaws.com/nyc-taxi/2015/yellow_tripdata_2015-02.csv\n",
      "100%|██████████| 1945357622/1945357622 [00:29<00:00, 65506177.65it/s]\n",
      "- Downloading http://dask-data.s3.amazonaws.com/nyc-taxi/2015/yellow_tripdata_2015-03.csv\n",
      "100%|██████████| 2087971794/2087971794 [00:33<00:00, 62180625.55it/s] \n",
      "- Downloading http://dask-data.s3.amazonaws.com/nyc-taxi/2015/yellow_tripdata_2015-04.csv\n",
      "100%|██████████| 2046225765/2046225765 [00:31<00:00, 65746019.73it/s]\n",
      "- Downloading http://dask-data.s3.amazonaws.com/nyc-taxi/2015/yellow_tripdata_2015-05.csv\n",
      "100%|██████████| 2061869121/2061869121 [00:27<00:00, 73939136.66it/s] \n",
      "- Downloading http://dask-data.s3.amazonaws.com/nyc-taxi/2015/yellow_tripdata_2015-06.csv\n",
      "100%|██████████| 1932049357/1932049357 [00:29<00:00, 64596156.85it/s]\n",
      "- Downloading http://dask-data.s3.amazonaws.com/nyc-taxi/2015/yellow_tripdata_2015-07.csv\n",
      "100%|██████████| 1812530041/1812530041 [00:29<00:00, 61745527.58it/s] \n",
      "- Downloading http://dask-data.s3.amazonaws.com/nyc-taxi/2015/yellow_tripdata_2015-08.csv\n",
      "100%|██████████| 1744852237/1744852237 [00:26<00:00, 65974018.30it/s] \n",
      "- Downloading http://dask-data.s3.amazonaws.com/nyc-taxi/2015/yellow_tripdata_2015-09.csv\n",
      "100%|██████████| 1760412710/1760412710 [00:27<00:00, 64174609.37it/s]\n",
      "- Downloading http://dask-data.s3.amazonaws.com/nyc-taxi/2015/yellow_tripdata_2015-10.csv\n",
      "100%|██████████| 1931460927/1931460927 [00:29<00:00, 65248050.69it/s]\n",
      "- Downloading http://dask-data.s3.amazonaws.com/nyc-taxi/2015/yellow_tripdata_2015-11.csv\n",
      "100%|██████████| 1773468989/1773468989 [00:31<00:00, 56412556.41it/s]\n",
      "- Downloading http://dask-data.s3.amazonaws.com/nyc-taxi/2015/yellow_tripdata_2015-12.csv\n",
      "100%|██████████| 1796283025/1796283025 [00:26<00:00, 68628572.27it/s] \n",
      "- Uploading taxi data... \n",
      "Uploading an estimated of 12 files\n",
      "Uploading /mnt/batch/tasks/shared/LS_root/mounts/clusters/danielsc-dask/code/Users/danielsc/azureml-and-dask/batch/data/nyctaxi/yellow_tripdata_2015-01.csv\n",
      "Uploading /mnt/batch/tasks/shared/LS_root/mounts/clusters/danielsc-dask/code/Users/danielsc/azureml-and-dask/batch/data/nyctaxi/yellow_tripdata_2015-02.csv\n",
      "Uploading /mnt/batch/tasks/shared/LS_root/mounts/clusters/danielsc-dask/code/Users/danielsc/azureml-and-dask/batch/data/nyctaxi/yellow_tripdata_2015-03.csv\n",
      "Uploading /mnt/batch/tasks/shared/LS_root/mounts/clusters/danielsc-dask/code/Users/danielsc/azureml-and-dask/batch/data/nyctaxi/yellow_tripdata_2015-04.csv\n",
      "Uploading /mnt/batch/tasks/shared/LS_root/mounts/clusters/danielsc-dask/code/Users/danielsc/azureml-and-dask/batch/data/nyctaxi/yellow_tripdata_2015-05.csv\n",
      "Uploading /mnt/batch/tasks/shared/LS_root/mounts/clusters/danielsc-dask/code/Users/danielsc/azureml-and-dask/batch/data/nyctaxi/yellow_tripdata_2015-06.csv\n",
      "Uploading /mnt/batch/tasks/shared/LS_root/mounts/clusters/danielsc-dask/code/Users/danielsc/azureml-and-dask/batch/data/nyctaxi/yellow_tripdata_2015-07.csv\n",
      "Uploading /mnt/batch/tasks/shared/LS_root/mounts/clusters/danielsc-dask/code/Users/danielsc/azureml-and-dask/batch/data/nyctaxi/yellow_tripdata_2015-08.csv\n",
      "Uploading /mnt/batch/tasks/shared/LS_root/mounts/clusters/danielsc-dask/code/Users/danielsc/azureml-and-dask/batch/data/nyctaxi/yellow_tripdata_2015-09.csv\n",
      "Uploading /mnt/batch/tasks/shared/LS_root/mounts/clusters/danielsc-dask/code/Users/danielsc/azureml-and-dask/batch/data/nyctaxi/yellow_tripdata_2015-10.csv\n",
      "Uploading /mnt/batch/tasks/shared/LS_root/mounts/clusters/danielsc-dask/code/Users/danielsc/azureml-and-dask/batch/data/nyctaxi/yellow_tripdata_2015-11.csv\n",
      "Uploading /mnt/batch/tasks/shared/LS_root/mounts/clusters/danielsc-dask/code/Users/danielsc/azureml-and-dask/batch/data/nyctaxi/yellow_tripdata_2015-12.csv\n",
      "Uploaded /mnt/batch/tasks/shared/LS_root/mounts/clusters/danielsc-dask/code/Users/danielsc/azureml-and-dask/batch/data/nyctaxi/yellow_tripdata_2015-11.csv, 1 files out of an estimated total of 12\n",
      "Uploaded /mnt/batch/tasks/shared/LS_root/mounts/clusters/danielsc-dask/code/Users/danielsc/azureml-and-dask/batch/data/nyctaxi/yellow_tripdata_2015-08.csv, 2 files out of an estimated total of 12\n",
      "Uploaded /mnt/batch/tasks/shared/LS_root/mounts/clusters/danielsc-dask/code/Users/danielsc/azureml-and-dask/batch/data/nyctaxi/yellow_tripdata_2015-07.csv, 3 files out of an estimated total of 12\n",
      "Uploaded /mnt/batch/tasks/shared/LS_root/mounts/clusters/danielsc-dask/code/Users/danielsc/azureml-and-dask/batch/data/nyctaxi/yellow_tripdata_2015-09.csv, 4 files out of an estimated total of 12\n",
      "Uploaded /mnt/batch/tasks/shared/LS_root/mounts/clusters/danielsc-dask/code/Users/danielsc/azureml-and-dask/batch/data/nyctaxi/yellow_tripdata_2015-12.csv, 5 files out of an estimated total of 12\n",
      "Uploaded /mnt/batch/tasks/shared/LS_root/mounts/clusters/danielsc-dask/code/Users/danielsc/azureml-and-dask/batch/data/nyctaxi/yellow_tripdata_2015-10.csv, 6 files out of an estimated total of 12\n",
      "Uploaded /mnt/batch/tasks/shared/LS_root/mounts/clusters/danielsc-dask/code/Users/danielsc/azureml-and-dask/batch/data/nyctaxi/yellow_tripdata_2015-06.csv, 7 files out of an estimated total of 12\n",
      "Uploaded /mnt/batch/tasks/shared/LS_root/mounts/clusters/danielsc-dask/code/Users/danielsc/azureml-and-dask/batch/data/nyctaxi/yellow_tripdata_2015-02.csv, 8 files out of an estimated total of 12\n",
      "Uploaded /mnt/batch/tasks/shared/LS_root/mounts/clusters/danielsc-dask/code/Users/danielsc/azureml-and-dask/batch/data/nyctaxi/yellow_tripdata_2015-01.csv, 9 files out of an estimated total of 12\n",
      "Uploaded /mnt/batch/tasks/shared/LS_root/mounts/clusters/danielsc-dask/code/Users/danielsc/azureml-and-dask/batch/data/nyctaxi/yellow_tripdata_2015-03.csv, 10 files out of an estimated total of 12\n",
      "Uploaded /mnt/batch/tasks/shared/LS_root/mounts/clusters/danielsc-dask/code/Users/danielsc/azureml-and-dask/batch/data/nyctaxi/yellow_tripdata_2015-04.csv, 11 files out of an estimated total of 12\n",
      "Uploaded /mnt/batch/tasks/shared/LS_root/mounts/clusters/danielsc-dask/code/Users/danielsc/azureml-and-dask/batch/data/nyctaxi/yellow_tripdata_2015-05.csv, 12 files out of an estimated total of 12\n",
      "Uploaded 12 files\n",
      "- Data transfer complete\n"
     ]
    }
   ],
   "source": [
    "import io\n",
    "import os\n",
    "import sys\n",
    "import urllib.request\n",
    "from tqdm import tqdm\n",
    "from time import sleep\n",
    "\n",
    "cwd = os.getcwd()\n",
    "\n",
    "data_dir = os.path.abspath(os.path.join(cwd, 'data'))\n",
    "if not os.path.exists(data_dir):\n",
    "    os.makedirs(data_dir)\n",
    "\n",
    "taxidir = os.path.join(data_dir, 'nyctaxi')\n",
    "if not os.path.exists(taxidir):\n",
    "    os.makedirs(taxidir)\n",
    "\n",
    "filenames = []\n",
    "local_paths = []\n",
    "for i in range(1, 13):\n",
    "    filename = \"yellow_tripdata_2015-{month:02d}.csv\".format(month=i)\n",
    "    filenames.append(filename)\n",
    "    \n",
    "    local_path = os.path.join(taxidir, filename)\n",
    "    local_paths.append(local_path)\n",
    "\n",
    "for idx, filename in enumerate(filenames):\n",
    "    url = \"http://dask-data.s3.amazonaws.com/nyc-taxi/2015/\" + filename\n",
    "    print(\"- Downloading \" + url)\n",
    "    if not os.path.exists(local_paths[idx]):\n",
    "        with open(local_paths[idx], 'wb') as file:\n",
    "            with urllib.request.urlopen(url) as resp:\n",
    "                length = int(resp.getheader('content-length'))\n",
    "                blocksize = max(4096, length // 100)\n",
    "                with tqdm(total=length, file=sys.stdout) as pbar:\n",
    "                    while True:\n",
    "                        buff = resp.read(blocksize)\n",
    "                        if not buff:\n",
    "                            break\n",
    "                        file.write(buff)\n",
    "                        pbar.update(len(buff))\n",
    "    else:\n",
    "        print(\"- File already exists locally\")\n",
    "\n",
    "print(\"- Uploading taxi data... \")\n",
    "ws = Workspace.from_config()\n",
    "ds = ws.get_default_datastore()\n",
    "\n",
    "ds.upload(\n",
    "    src_dir=taxidir,\n",
    "    target_path='nyctaxi',\n",
    "    show_progress=True)\n",
    "\n",
    "print(\"- Data transfer complete\")"
   ]
  },
  {
   "cell_type": "markdown",
   "metadata": {},
   "source": [
    "## Starting the cluster"
   ]
  },
  {
   "cell_type": "code",
   "execution_count": 10,
   "metadata": {},
   "outputs": [],
   "source": [
    "# we assume the AML compute training cluster is already created\n",
    "dask_cluster = ws.compute_targets['daniel-big']"
   ]
  },
  {
   "cell_type": "markdown",
   "metadata": {},
   "source": [
    "Starting the Dask cluster using an Estimator with MpiConfiguration. Make sure the cluster is able to scale up to 10 nodes or change the `node_count` below. "
   ]
  },
  {
   "cell_type": "code",
   "execution_count": 14,
   "metadata": {},
   "outputs": [],
   "source": [
    "est = Estimator('dask', \n",
    "                compute_target=dask_cluster, \n",
    "                entry_script='startDask.py', \n",
    "                conda_dependencies_file='environment.yml', \n",
    "                script_params={'--datastore': ws.get_default_datastore(),\n",
    "                              '--script': 'batch.py'},\n",
    "                node_count=10,\n",
    "                distributed_training=MpiConfiguration())\n",
    "\n",
    "run = Experiment(ws, 'dask').submit(est)"
   ]
  },
  {
   "cell_type": "code",
   "execution_count": 15,
   "metadata": {
    "scrolled": false
   },
   "outputs": [
    {
     "data": {
      "application/vnd.jupyter.widget-view+json": {
       "model_id": "e917d855441647f09fcc50f3809622f5",
       "version_major": 2,
       "version_minor": 0
      },
      "text/plain": [
       "_UserRunWidget(widget_settings={'childWidgetDisplay': 'popup', 'send_telemetry': False, 'log_level': 'INFO', '…"
      ]
     },
     "metadata": {},
     "output_type": "display_data"
    },
    {
     "data": {
      "application/aml.mini.widget.v1": "{\"status\": \"Queued\", \"workbench_run_details_uri\": \"https://ml.azure.com/experiments/dask/runs/dask_1599051891_1033bd4f?wsid=/subscriptions/6560575d-fa06-4e7d-95fb-f962e74efd7a/resourcegroups/dask-rg/workspaces/dask-azureml\", \"run_id\": \"dask_1599051891_1033bd4f\", \"run_properties\": {\"run_id\": \"dask_1599051891_1033bd4f\", \"created_utc\": \"2020-09-02T13:04:56.761121Z\", \"properties\": {\"_azureml.ComputeTargetType\": \"amlcompute\", \"ContentSnapshotId\": \"66fa5036-4c6b-47f6-aa7e-d7e9340a74cb\", \"azureml.git.repository_uri\": \"https://github.com/danielsc/azureml-and-dask\", \"mlflow.source.git.repoURL\": \"https://github.com/danielsc/azureml-and-dask\", \"azureml.git.branch\": \"master\", \"mlflow.source.git.branch\": \"master\", \"azureml.git.commit\": \"f71a6182f15f2344e7b39589434f3d3461a89344\", \"mlflow.source.git.commit\": \"f71a6182f15f2344e7b39589434f3d3461a89344\", \"azureml.git.dirty\": \"True\", \"ProcessInfoFile\": \"azureml-logs/process_info.json\", \"ProcessStatusFile\": \"azureml-logs/process_status.json\"}, \"tags\": {\"_aml_system_ComputeTargetStatus\": \"{\\\"AllocationState\\\":\\\"resizing\\\",\\\"PreparingNodeCount\\\":0,\\\"RunningNodeCount\\\":0,\\\"CurrentNodeCount\\\":0}\"}, \"script_name\": null, \"arguments\": null, \"end_time_utc\": null, \"status\": \"Queued\", \"log_files\": {}, \"log_groups\": [], \"run_duration\": \"0:02:33\"}, \"child_runs\": [], \"children_metrics\": {}, \"run_metrics\": [], \"run_logs\": \"Your job is submitted in Azure cloud and we are monitoring to get logs...\", \"graph\": {}, \"widget_settings\": {\"childWidgetDisplay\": \"popup\", \"send_telemetry\": false, \"log_level\": \"INFO\", \"sdk_version\": \"1.12.0\"}, \"loading\": false}"
     },
     "metadata": {},
     "output_type": "display_data"
    }
   ],
   "source": [
    "RunDetails(run).show()"
   ]
  },
  {
   "cell_type": "markdown",
   "metadata": {},
   "source": [
    "## Shut cluster down"
   ]
  },
  {
   "cell_type": "code",
   "execution_count": 50,
   "metadata": {},
   "outputs": [
    {
     "name": "stdout",
     "output_type": "stream",
     "text": [
      "cancelling run dask_1575974502_b8643732\n",
      "cancelling run dask_1575973181_99433e88\n"
     ]
    }
   ],
   "source": [
    "for run in ws.experiments['dask'].get_runs():\n",
    "    if run.get_status() == \"Running\":\n",
    "        print(f'cancelling run {run.id}')\n",
    "        run.cancel()"
   ]
  },
  {
   "cell_type": "markdown",
   "metadata": {},
   "source": [
    "### Just for convenience, get the latest running Run"
   ]
  },
  {
   "cell_type": "code",
   "execution_count": 87,
   "metadata": {},
   "outputs": [
    {
     "name": "stdout",
     "output_type": "stream",
     "text": [
      "latest running run is dask_1574792066_49c85fe4\n"
     ]
    }
   ],
   "source": [
    "for run in ws.experiments['dask'].get_runs():\n",
    "    if run.get_status() == \"Running\":\n",
    "        print(f'latest running run is {run.id}')\n",
    "        break"
   ]
  },
  {
   "cell_type": "code",
   "execution_count": null,
   "metadata": {},
   "outputs": [],
   "source": []
  }
 ],
 "metadata": {
  "kernelspec": {
   "display_name": "Python 3.6 - AzureML",
   "language": "python",
   "name": "python3-azureml"
  },
  "language_info": {
   "codemirror_mode": {
    "name": "ipython",
    "version": 3
   },
   "file_extension": ".py",
   "mimetype": "text/x-python",
   "name": "python",
   "nbconvert_exporter": "python",
   "pygments_lexer": "ipython3",
   "version": "3.6.9"
  }
 },
 "nbformat": 4,
 "nbformat_minor": 2
}
